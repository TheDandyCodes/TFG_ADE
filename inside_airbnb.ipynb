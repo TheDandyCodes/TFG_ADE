{
 "cells": [
  {
   "cell_type": "code",
   "execution_count": 23,
   "metadata": {},
   "outputs": [],
   "source": [
    "import pandas as pd\n",
    "import numpy as np\n",
    "import matplotlib.pyplot as plt\n",
    "import missingno as msn\n",
    "import seaborn as sns\n",
    "import plotly.express as px"
   ]
  },
  {
   "cell_type": "code",
   "execution_count": 15,
   "metadata": {},
   "outputs": [],
   "source": [
    "df_MAD = pd.read_csv('listings.csv')\n",
    "df_BCN = pd.read_csv('listings_BCN.csv')\n",
    "df_MAL = pd.read_csv('listings_MAL.csv')\n",
    "df_SEV = pd.read_csv('listings_SEV.csv')\n",
    "df_VAL = pd.read_csv('listings_VAL.csv')\n"
   ]
  },
  {
   "cell_type": "code",
   "execution_count": 16,
   "metadata": {},
   "outputs": [
    {
     "name": "stdout",
     "output_type": "stream",
     "text": [
      "(20681, 75)\n",
      "(16920, 75)\n",
      "(8481, 75)\n",
      "(6494, 75)\n",
      "(7355, 75)\n"
     ]
    }
   ],
   "source": [
    "print(df_MAD.shape)\n",
    "print(df_BCN.shape)\n",
    "print(df_MAL.shape)\n",
    "print(df_SEV.shape)\n",
    "print(df_VAL.shape)"
   ]
  },
  {
   "cell_type": "code",
   "execution_count": 20,
   "metadata": {},
   "outputs": [],
   "source": [
    "df = pd.concat([df_MAD, df_BCN, df_MAL, df_SEV, df_VAL], ignore_index=True)"
   ]
  },
  {
   "cell_type": "code",
   "execution_count": 26,
   "metadata": {},
   "outputs": [
    {
     "name": "stdout",
     "output_type": "stream",
     "text": [
      "<class 'pandas.core.frame.DataFrame'>\n",
      "RangeIndex: 59931 entries, 0 to 59930\n",
      "Data columns (total 75 columns):\n",
      " #   Column                                        Non-Null Count  Dtype  \n",
      "---  ------                                        --------------  -----  \n",
      " 0   id                                            59931 non-null  int64  \n",
      " 1   listing_url                                   59931 non-null  object \n",
      " 2   scrape_id                                     59931 non-null  int64  \n",
      " 3   last_scraped                                  59931 non-null  object \n",
      " 4   source                                        59931 non-null  object \n",
      " 5   name                                          59917 non-null  object \n",
      " 6   description                                   58938 non-null  object \n",
      " 7   neighborhood_overview                         34060 non-null  object \n",
      " 8   picture_url                                   59930 non-null  object \n",
      " 9   host_id                                       59931 non-null  int64  \n",
      " 10  host_url                                      59931 non-null  object \n",
      " 11  host_name                                     59926 non-null  object \n",
      " 12  host_since                                    59926 non-null  object \n",
      " 13  host_location                                 45805 non-null  object \n",
      " 14  host_about                                    33171 non-null  object \n",
      " 15  host_response_time                            50318 non-null  object \n",
      " 16  host_response_rate                            50318 non-null  object \n",
      " 17  host_acceptance_rate                          51824 non-null  object \n",
      " 18  host_is_superhost                             59923 non-null  object \n",
      " 19  host_thumbnail_url                            59926 non-null  object \n",
      " 20  host_picture_url                              59926 non-null  object \n",
      " 21  host_neighbourhood                            27839 non-null  object \n",
      " 22  host_listings_count                           59926 non-null  float64\n",
      " 23  host_total_listings_count                     59926 non-null  float64\n",
      " 24  host_verifications                            59931 non-null  object \n",
      " 25  host_has_profile_pic                          59926 non-null  object \n",
      " 26  host_identity_verified                        59926 non-null  object \n",
      " 27  neighbourhood                                 34060 non-null  object \n",
      " 28  neighbourhood_cleansed                        59931 non-null  object \n",
      " 29  neighbourhood_group_cleansed                  51450 non-null  object \n",
      " 30  latitude                                      59931 non-null  float64\n",
      " 31  longitude                                     59931 non-null  float64\n",
      " 32  property_type                                 59931 non-null  object \n",
      " 33  room_type                                     59931 non-null  object \n",
      " 34  accommodates                                  59931 non-null  int64  \n",
      " 35  bathrooms                                     0 non-null      float64\n",
      " 36  bathrooms_text                                59871 non-null  object \n",
      " 37  bedrooms                                      56089 non-null  float64\n",
      " 38  beds                                          59102 non-null  float64\n",
      " 39  amenities                                     59931 non-null  object \n",
      " 40  price                                         59931 non-null  object \n",
      " 41  minimum_nights                                59931 non-null  int64  \n",
      " 42  maximum_nights                                59931 non-null  int64  \n",
      " 43  minimum_minimum_nights                        59929 non-null  float64\n",
      " 44  maximum_minimum_nights                        59929 non-null  float64\n",
      " 45  minimum_maximum_nights                        59929 non-null  float64\n",
      " 46  maximum_maximum_nights                        59929 non-null  float64\n",
      " 47  minimum_nights_avg_ntm                        59929 non-null  float64\n",
      " 48  maximum_nights_avg_ntm                        59929 non-null  float64\n",
      " 49  calendar_updated                              0 non-null      float64\n",
      " 50  has_availability                              59931 non-null  object \n",
      " 51  availability_30                               59931 non-null  int64  \n",
      " 52  availability_60                               59931 non-null  int64  \n",
      " 53  availability_90                               59931 non-null  int64  \n",
      " 54  availability_365                              59931 non-null  int64  \n",
      " 55  calendar_last_scraped                         59931 non-null  object \n",
      " 56  number_of_reviews                             59931 non-null  int64  \n",
      " 57  number_of_reviews_ltm                         59931 non-null  int64  \n",
      " 58  number_of_reviews_l30d                        59931 non-null  int64  \n",
      " 59  first_review                                  48923 non-null  object \n",
      " 60  last_review                                   48923 non-null  object \n",
      " 61  review_scores_rating                          48923 non-null  float64\n",
      " 62  review_scores_accuracy                        48638 non-null  float64\n",
      " 63  review_scores_cleanliness                     48641 non-null  float64\n",
      " 64  review_scores_checkin                         48635 non-null  float64\n",
      " 65  review_scores_communication                   48641 non-null  float64\n",
      " 66  review_scores_location                        48632 non-null  float64\n",
      " 67  review_scores_value                           48630 non-null  float64\n",
      " 68  license                                       31048 non-null  object \n",
      " 69  instant_bookable                              59931 non-null  object \n",
      " 70  calculated_host_listings_count                59931 non-null  int64  \n",
      " 71  calculated_host_listings_count_entire_homes   59931 non-null  int64  \n",
      " 72  calculated_host_listings_count_private_rooms  59931 non-null  int64  \n",
      " 73  calculated_host_listings_count_shared_rooms   59931 non-null  int64  \n",
      " 74  reviews_per_month                             48923 non-null  float64\n",
      "dtypes: float64(22), int64(17), object(36)\n",
      "memory usage: 34.3+ MB\n"
     ]
    }
   ],
   "source": [
    "df.info()"
   ]
  }
 ],
 "metadata": {
  "kernelspec": {
   "display_name": "Python 3",
   "language": "python",
   "name": "python3"
  },
  "language_info": {
   "codemirror_mode": {
    "name": "ipython",
    "version": 3
   },
   "file_extension": ".py",
   "mimetype": "text/x-python",
   "name": "python",
   "nbconvert_exporter": "python",
   "pygments_lexer": "ipython3",
   "version": "3.11.1 (tags/v3.11.1:a7a450f, Dec  6 2022, 19:58:39) [MSC v.1934 64 bit (AMD64)]"
  },
  "orig_nbformat": 4,
  "vscode": {
   "interpreter": {
    "hash": "49cd455aa2cded7ebbc2b209881a5a06b8885970d29270255288c9d8e646ca4d"
   }
  }
 },
 "nbformat": 4,
 "nbformat_minor": 2
}
